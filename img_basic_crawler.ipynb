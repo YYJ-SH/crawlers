{
 "cells": [
  {
   "cell_type": "code",
   "execution_count": 3,
   "metadata": {},
   "outputs": [],
   "source": [
    "# Google Image Crawler\n",
    "\n",
    "import requests\n",
    "from bs4 import BeautifulSoup\n",
    "import os\n",
    "from urllib.parse import urljoin"
   ]
  },
  {
   "cell_type": "code",
   "execution_count": 4,
   "metadata": {},
   "outputs": [],
   "source": [
    "# 구글 이미지 검색 URL\n",
    "url = f\"https://www.google.com/search?sca_esv=0eb7a465d1046084&q=beautiful+roses&uds=ADvngMgM3sJHGRUUapkgumPBd1g4L_eVFCH7j2q2cDbg8Kic8M_f734CTbeKMrmdEfwHWYRSmkurprwYhslLHwQb1ObiuVqa7_D9oDJ5XWrnG68WMyU6MTHrtJXeEhYtCWV4rDLVF7RfcmeRaK6srU16mkD_rw4cFh8z0EEzN_AtUnztNJ4vPhLNAMv7j7OyaevhQtjTgD097e7mHbIU7faAkvXdpsmQGXa0qlM8C3we0Wx5YYqxss5S7CsxcVpPM088_2t7iwCl_H12I5jSSlRNmPmIseW9TAtDlP67Mzwks72bnFZxs-c&udm=2&prmd=isvnmbz&sa=X&ved=2ahUKEwjuvqbbhpSGAxV6sVYBHVEuC_wQtKgLegQIERAB&biw=532&bih=520&dpr=1.75\"\n",
    "\n",
    "# 사진 저장 디렉토리 설정\n",
    "save_dir = \"downloaded_images\"\n",
    "if not os.path.exists(save_dir):\n",
    "    os.makedirs(save_dir)"
   ]
  },
  {
   "cell_type": "code",
   "execution_count": 5,
   "metadata": {},
   "outputs": [],
   "source": [
    "# HTTP 요청 및 HTML 파싱\n",
    "response = requests.get(url)\n",
    "soup = BeautifulSoup(response.text, \"html.parser\")"
   ]
  },
  {
   "cell_type": "code",
   "execution_count": 7,
   "metadata": {},
   "outputs": [
    {
     "name": "stdout",
     "output_type": "stream",
     "text": [
      "Found 20 images with class containing 'DS1iW'\n"
     ]
    }
   ],
   "source": [
    "img_tags = [img for img in soup.find_all(\"img\") if \"DS1iW\" in img.get(\"class\", [])]\n",
    "print(f\"Found {len(img_tags)} images with class containing 'DS1iW'\")"
   ]
  },
  {
   "cell_type": "code",
   "execution_count": null,
   "metadata": {},
   "outputs": [],
   "source": [
    "# 최대 100장까지만 다운로드\n",
    "max_images = 100\n",
    "for idx, img_tag in enumerate(img_tags[:max_images]):\n",
    "    img_url = img_tag[\"src\"]\n",
    "    try:\n",
    "        img_data = requests.get(img_url).content\n",
    "        filename = f\"image_{idx}.jpg\"\n",
    "        filepath = os.path.join(save_dir, filename)\n",
    "        with open(filepath, \"wb\") as f:\n",
    "            f.write(img_data)\n",
    "        print(f\"{filename} 다운로드 완료\")\n",
    "    except Exception as e:\n",
    "        print(f\"Error downloading {img_url}: {e}\")\n",
    "print(f\"총 {min(len(img_tags), max_images)}장의 이미지를 다운로드했습니다.\")"
   ]
  },
  {
   "cell_type": "code",
   "execution_count": 9,
   "metadata": {},
   "outputs": [
    {
     "name": "stdout",
     "output_type": "stream",
     "text": [
      "Found 21 image tags\n",
      "Error downloading /images/branding/searchlogo/1x/googlelogo_desk_heirloom_color_150x55dp.gif: Invalid URL '/images/branding/searchlogo/1x/googlelogo_desk_heirloom_color_150x55dp.gif': No scheme supplied. Perhaps you meant https:///images/branding/searchlogo/1x/googlelogo_desk_heirloom_color_150x55dp.gif?\n",
      "image_1.jpg 다운로드 완료\n",
      "image_2.jpg 다운로드 완료\n",
      "image_3.jpg 다운로드 완료\n",
      "image_4.jpg 다운로드 완료\n",
      "image_5.jpg 다운로드 완료\n",
      "image_6.jpg 다운로드 완료\n",
      "image_7.jpg 다운로드 완료\n",
      "image_8.jpg 다운로드 완료\n",
      "image_9.jpg 다운로드 완료\n",
      "image_10.jpg 다운로드 완료\n",
      "image_11.jpg 다운로드 완료\n",
      "image_12.jpg 다운로드 완료\n",
      "image_13.jpg 다운로드 완료\n",
      "image_14.jpg 다운로드 완료\n",
      "image_15.jpg 다운로드 완료\n",
      "image_16.jpg 다운로드 완료\n",
      "image_17.jpg 다운로드 완료\n",
      "image_18.jpg 다운로드 완료\n",
      "image_19.jpg 다운로드 완료\n",
      "image_20.jpg 다운로드 완료\n",
      "총 21장의 이미지를 다운로드했습니다.\n"
     ]
    }
   ],
   "source": [
    "import requests\n",
    "from bs4 import BeautifulSoup\n",
    "import os\n",
    "from urllib.parse import urljoin\n",
    "\n",
    "query = \"blue roses\"\n",
    "url = f\"https://www.google.com/search?q={query}&tbm=isch\"\n",
    "\n",
    "save_dir = \"downloaded_images2\"\n",
    "if not os.path.exists(save_dir):\n",
    "    os.makedirs(save_dir)\n",
    "    \n",
    "response = requests.get(url)\n",
    "soup = BeautifulSoup(response.text, \"html.parser\")\n",
    "\n",
    "# 모든 <img> 태그 찾기\n",
    "img_tags = soup.find_all(\"img\")\n",
    "print(f\"Found {len(img_tags)} image tags\")\n",
    "\n",
    "# 최대 100장까지만 다운로드\n",
    "max_images = 100\n",
    "for idx, img_tag in enumerate(img_tags[:max_images]):\n",
    "    img_url = img_tag[\"src\"]\n",
    "    try:\n",
    "        img_data = requests.get(img_url).content\n",
    "        filename = f\"image_{idx}.jpg\"\n",
    "        filepath = os.path.join(save_dir, filename)\n",
    "        with open(filepath, \"wb\") as f:\n",
    "            f.write(img_data)\n",
    "        print(f\"{filename} 다운로드 완료\")\n",
    "    except Exception as e:\n",
    "        print(f\"Error downloading {img_url}: {e}\")\n",
    "\n",
    "print(f\"총 {min(len(img_tags), max_images)}장의 이미지를 다운로드했습니다.\")"
   ]
  }
 ],
 "metadata": {
  "kernelspec": {
   "display_name": "base",
   "language": "python",
   "name": "python3"
  },
  "language_info": {
   "codemirror_mode": {
    "name": "ipython",
    "version": 3
   },
   "file_extension": ".py",
   "mimetype": "text/x-python",
   "name": "python",
   "nbconvert_exporter": "python",
   "pygments_lexer": "ipython3",
   "version": "3.11.4"
  }
 },
 "nbformat": 4,
 "nbformat_minor": 2
}
